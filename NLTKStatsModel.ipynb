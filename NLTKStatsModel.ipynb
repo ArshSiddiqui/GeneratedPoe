{
 "cells": [
  {
   "cell_type": "code",
   "execution_count": 104,
   "id": "e267a59b",
   "metadata": {},
   "outputs": [],
   "source": [
    "import nltk\n",
    "from nltk import word_tokenize\n",
    "from nltk.util import ngrams\n",
    "from nltk import trigrams\n",
    "from collections import defaultdict\n",
    "import random"
   ]
  },
  {
   "cell_type": "code",
   "execution_count": 102,
   "id": "3ef704b8",
   "metadata": {},
   "outputs": [],
   "source": [
    "model = defaultdict(lambda: defaultdict(lambda: 0))\n",
    "file = open(\"EAPStories.txt\", 'r')"
   ]
  },
  {
   "cell_type": "code",
   "execution_count": 103,
   "id": "53308a39",
   "metadata": {
    "scrolled": false
   },
   "outputs": [
    {
     "data": {
      "text/plain": [
       "{'went': 0.015151515151515152,\n",
       " 'obtain': 0.015151515151515152,\n",
       " 'i': 0.12121212121212122,\n",
       " 'returned,': 0.015151515151515152,\n",
       " 'from': 0.030303030303030304,\n",
       " 'caught': 0.015151515151515152,\n",
       " 'the': 0.16666666666666666,\n",
       " 'universal': 0.015151515151515152,\n",
       " 'felt': 0.015151515151515152,\n",
       " None: 0.12121212121212122,\n",
       " 'replied,': 0.015151515151515152,\n",
       " 'only,': 0.015151515151515152,\n",
       " 'closed': 0.015151515151515152,\n",
       " 'places': 0.015151515151515152,\n",
       " 'wait': 0.015151515151515152,\n",
       " '\"hoo!\"': 0.015151515151515152,\n",
       " 'again,': 0.015151515151515152,\n",
       " 'let': 0.030303030303030304,\n",
       " 'it': 0.030303030303030304,\n",
       " 'drop': 0.015151515151515152,\n",
       " 'we': 0.030303030303030304,\n",
       " 'had': 0.015151515151515152,\n",
       " 'burst': 0.015151515151515152,\n",
       " 'shot': 0.015151515151515152,\n",
       " 'nearer': 0.015151515151515152,\n",
       " 'thrown': 0.015151515151515152,\n",
       " 'feebly,': 0.015151515151515152,\n",
       " 'came,': 0.015151515151515152,\n",
       " 'quickly': 0.015151515151515152,\n",
       " 'profuse': 0.015151515151515152,\n",
       " 'were': 0.015151515151515152,\n",
       " 'my': 0.015151515151515152,\n",
       " 'all': 0.015151515151515152,\n",
       " 'deeply': 0.015151515151515152,\n",
       " 'his': 0.045454545454545456,\n",
       " 'immediately': 0.015151515151515152,\n",
       " 'said': 0.015151515151515152,\n",
       " 'slip': 0.015151515151515152,\n",
       " 'excessively': 0.015151515151515152,\n",
       " 'remained': 0.015151515151515152,\n",
       " 'uttered': 0.015151515151515152,\n",
       " 'of': 0.045454545454545456,\n",
       " 'wringing': 0.015151515151515152,\n",
       " 'hail': 0.015151515151515152,\n",
       " 'only': 0.015151515151515152,\n",
       " 'a': 0.030303030303030304,\n",
       " 'push': 0.015151515151515152,\n",
       " 'found': 0.015151515151515152,\n",
       " 'she': 0.015151515151515152,\n",
       " 'at': 0.030303030303030304,\n",
       " 'moved': 0.015151515151515152,\n",
       " 'one': 0.015151515151515152,\n",
       " 'shut': 0.015151515151515152,\n",
       " '_will_': 0.015151515151515152,\n",
       " 'put': 0.015151515151515152,\n",
       " 'there': 0.015151515151515152,\n",
       " 'give': 0.015151515151515152,\n",
       " 'survey': 0.015151515151515152,\n",
       " 'again': 0.015151515151515152,\n",
       " 'made': 0.015151515151515152,\n",
       " 'turned': 0.015151515151515152,\n",
       " 'to': 0.030303030303030304,\n",
       " 'around': 0.015151515151515152,\n",
       " 'knocked': 0.030303030303030304,\n",
       " 'you': 0.015151515151515152,\n",
       " 'commenced,': 0.015151515151515152,\n",
       " 'into': 0.015151515151515152,\n",
       " 'did': 0.015151515151515152,\n",
       " 'established': 0.015151515151515152,\n",
       " 'imagine': 0.015151515151515152,\n",
       " 'ran': 0.015151515151515152,\n",
       " 'what': 0.015151515151515152,\n",
       " 'apparently': 0.015151515151515152,\n",
       " 'writing': 0.015151515151515152,\n",
       " 'he': 0.030303030303030304,\n",
       " 'ounly': 0.015151515151515152,\n",
       " 'an': 0.015151515151515152,\n",
       " 'get': 0.015151515151515152,\n",
       " 'producing': 0.015151515151515152}"
      ]
     },
     "execution_count": 103,
     "metadata": {},
     "output_type": "execute_result"
    }
   ],
   "source": [
    "for line in file:\n",
    "    for w1, w2, w3 in trigrams(line.lower().split(), pad_right=True, pad_left=True):\n",
    "        model[(w1, w2)][w3] += 1\n",
    "\n",
    "total_occurence = 0\n",
    "for occurence in model['the', 'day'].values():\n",
    "    total_occurence += occurence\n",
    "\n",
    "for w1w2 in model:\n",
    "    for w3 in model[w1w2]:\n",
    "        model[w1w2][w3] = model[w1w2][w3] / total_occurence\n",
    "\n",
    "\n",
    "dict(model['and', 'then'])\n"
   ]
  },
  {
   "cell_type": "code",
   "execution_count": 137,
   "id": "0ee5aecb",
   "metadata": {},
   "outputs": [],
   "source": [
    "def create_sentence(word1, word2):\n",
    "    sentence = [word1, word2]\n",
    "    sentence_complete = False\n",
    "    total_words = 0\n",
    "    num_words = 2\n",
    "\n",
    "    while not sentence_complete:\n",
    "        min_words = random.random()\n",
    "\n",
    "        for word in model[tuple(sentence[num_words - 2:])].keys():\n",
    "\n",
    "            total_words += model[tuple(sentence[num_words - 2:])][word]\n",
    "\n",
    "            if total_words >= min_words:\n",
    "                sentence.append(word)\n",
    "                num_words += 1\n",
    "                break\n",
    "\n",
    "        if sentence[num_words - 2:] == [None, None]:\n",
    "            sentence_complete = True\n",
    "\n",
    "    sentence_str = \"\"\n",
    "    for word in sentence:\n",
    "        if word != None:\n",
    "            sentence_str = sentence_str + word + \" \"\n",
    "    \n",
    "    print(sentence_str)\n",
    "    \n",
    "    return sentence"
   ]
  },
  {
   "cell_type": "code",
   "execution_count": 138,
   "id": "c3ae338f",
   "metadata": {},
   "outputs": [
    {
     "name": "stdout",
     "output_type": "stream",
     "text": [
      "and how could the atmosphere was most unpleasant; but the result of an invisible spirit-say \n",
      "['and', 'how', 'could', 'the', 'atmosphere', 'was', 'most', 'unpleasant;', 'but', 'the', 'result', 'of', 'an', 'invisible', 'spirit-say', None, None]\n"
     ]
    }
   ],
   "source": [
    "sentence = create_sentence(\"and\", \"how\")\n",
    "print(sentence)"
   ]
  },
  {
   "cell_type": "code",
   "execution_count": null,
   "id": "0d2e253b",
   "metadata": {},
   "outputs": [],
   "source": []
  }
 ],
 "metadata": {
  "kernelspec": {
   "display_name": "Python 3",
   "language": "python",
   "name": "python3"
  },
  "language_info": {
   "codemirror_mode": {
    "name": "ipython",
    "version": 3
   },
   "file_extension": ".py",
   "mimetype": "text/x-python",
   "name": "python",
   "nbconvert_exporter": "python",
   "pygments_lexer": "ipython3",
   "version": "3.8.8"
  }
 },
 "nbformat": 4,
 "nbformat_minor": 5
}
